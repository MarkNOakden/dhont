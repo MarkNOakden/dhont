{
 "cells": [
  {
   "cell_type": "markdown",
   "metadata": {},
   "source": [
    "# Twitter thread preparation"
   ]
  },
  {
   "cell_type": "code",
   "execution_count": 1,
   "metadata": {},
   "outputs": [],
   "source": [
    "from IPython.core.display import display, HTML"
   ]
  },
  {
   "cell_type": "markdown",
   "metadata": {},
   "source": [
    "Thread: A lot has been discussed about how the D'Hont system for PR favours larger parties (i.e. parties with higher vote shares).  I decided to simulate a number of elections with random vote shares to see how large the effect is. 1/14"
   ]
  },
  {
   "cell_type": "markdown",
   "metadata": {},
   "source": [
    "I won't go into the details of the D'Hont system in this thread.  There's a decent Wikipedia article here: https://en.wikipedia.org/wiki/D%27Hondt_method and a brief description in my Jupyter notebook (see end of thread). 2/14"
   ]
  },
  {
   "cell_type": "markdown",
   "metadata": {},
   "source": [
    "I ran simulations of elections in a hypothetical area with 4 seats available, repeating this for different numbers of parties contesting the election (2, 4, 6, 8) and looked at how the vote shares and seat shares compared for these. 3/14"
   ]
  },
  {
   "cell_type": "markdown",
   "metadata": {},
   "source": [
    "So, how does the number of seats won compare with the vote proportions won by each party?  The plot shows the results for 6 parties contesting the election.  Each point is a vote share plotted against how many seats that share lead to being won. 4/14"
   ]
  },
  {
   "cell_type": "code",
   "execution_count": 5,
   "metadata": {},
   "outputs": [
    {
     "data": {
      "text/html": [
       "<img src=\"dhont_scatter_6_parties_4_seats.png\"></img>"
      ],
      "text/plain": [
       "<IPython.core.display.HTML object>"
      ]
     },
     "metadata": {},
     "output_type": "display_data"
    }
   ],
   "source": [
    "display(HTML('<img src=\"dhont_scatter_6_parties_4_seats.png\"></img>'))"
   ]
  },
  {
   "cell_type": "markdown",
   "metadata": {},
   "source": [
    "(The colours correspond to different numbers of seats won.)  What we see is that a given vote percentage (e.g. 15%) can lead to different numbers of seats won, depending on the distribution of the other parties' vote shares (in this case either 0 or 1 seat).  5/14"
   ]
  },
  {
   "cell_type": "markdown",
   "metadata": {},
   "source": [
    "In this 4-seat area,  a vote share of between ~25% and ~55% could lead to winning 1, 2, 3 or 4 seats depending on how the other votes are spread. This leads to a discrepancy between the proportion of seats won compared with the vote proportion.  6/14"
   ]
  },
  {
   "cell_type": "markdown",
   "metadata": {},
   "source": [
    "In this 6 party, 4 seat election, a party getting 55% of the vote, with the remaining 5 parties getting 9% each, will win 100% of the seats. (i.e. a 45% difference comapred to complete proportionality). 7/14"
   ]
  },
  {
   "cell_type": "markdown",
   "metadata": {},
   "source": [
    "If we plot the difference between vote share % and seats won %, then we can see how differing numbers of parties contesting the election affect the proportionality: 8/14"
   ]
  },
  {
   "cell_type": "code",
   "execution_count": 6,
   "metadata": {},
   "outputs": [
    {
     "data": {
      "text/html": [
       "<img src=\"dhont_proportionality_difference_4_seats.png\"></img>"
      ],
      "text/plain": [
       "<IPython.core.display.HTML object>"
      ]
     },
     "metadata": {},
     "output_type": "display_data"
    }
   ],
   "source": [
    "display(HTML('<img src=\"dhont_proportionality_difference_4_seats.png\"></img>'))"
   ]
  },
  {
   "cell_type": "markdown",
   "metadata": {},
   "source": [
    "Firstly, parties with higher vote shares see a positive proportionaility difference (i.e. tend to get a larger proportion of the seats than the proportion of the vote they got) while parties with lower shares do worse than their shares would indicate. 9/14"
   ]
  },
  {
   "cell_type": "markdown",
   "metadata": {},
   "source": [
    "As the number of parties grows, the positive effect for the seat shares of the larger parties gets bigger (e.g. in the 8 party case, a party winning 4 seats (100%) might have done this on less than 50% of the vote - a \"bonus\" of 50%) ... 10/14"
   ]
  },
  {
   "cell_type": "markdown",
   "metadata": {},
   "source": [
    "... whereas with just 2 parties, the \"proportionality difference\" bonus is limited to around 20%. 11/14"
   ]
  },
  {
   "cell_type": "markdown",
   "metadata": {},
   "source": [
    "The following plot is an estimate of the distribution of vote shares split by number of seats won. (Colours correspond to those in earlier plots). You can see e.g. that a vote share of 50% could lead to 2, 3 or 4 seats being won. 12/14"
   ]
  },
  {
   "cell_type": "code",
   "execution_count": 7,
   "metadata": {},
   "outputs": [
    {
     "data": {
      "text/html": [
       "<img src=\"dhont_kde_6_parties_4_seats.png\"></img>"
      ],
      "text/plain": [
       "<IPython.core.display.HTML object>"
      ]
     },
     "metadata": {},
     "output_type": "display_data"
    }
   ],
   "source": [
    "display(HTML('<img src=\"dhont_kde_6_parties_4_seats.png\"></img>'))"
   ]
  },
  {
   "cell_type": "markdown",
   "metadata": {},
   "source": [
    "To summarise, the statement that D'Hont favours larger parties is true, and the extent to which it does gets worse when the number of parties increases. 13/14"
   ]
  },
  {
   "cell_type": "markdown",
   "metadata": {},
   "source": [
    "The Jupyter notebook for the analysis is here: https://github.com/MarkNOakden/dhont/blob/master/DHont%20Voting%20System.ipynb in case anyone is interested in more details, the random election method used and the resulting vote share distribution etc. 14/14"
   ]
  },
  {
   "cell_type": "code",
   "execution_count": null,
   "metadata": {},
   "outputs": [],
   "source": []
  },
  {
   "cell_type": "code",
   "execution_count": null,
   "metadata": {},
   "outputs": [],
   "source": []
  }
 ],
 "metadata": {
  "kernelspec": {
   "display_name": "Python 3",
   "language": "python",
   "name": "python3"
  },
  "language_info": {
   "codemirror_mode": {
    "name": "ipython",
    "version": 3
   },
   "file_extension": ".py",
   "mimetype": "text/x-python",
   "name": "python",
   "nbconvert_exporter": "python",
   "pygments_lexer": "ipython3",
   "version": "3.6.5"
  }
 },
 "nbformat": 4,
 "nbformat_minor": 2
}
